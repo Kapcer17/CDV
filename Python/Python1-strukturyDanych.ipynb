{
 "cells": [
  {
   "cell_type": "code",
   "execution_count": 3,
   "id": "4678d97e-b19b-482b-aeac-9038c346084c",
   "metadata": {},
   "outputs": [
    {
     "name": "stdout",
     "output_type": "stream",
     "text": [
      "Miasta zaczynajace sie na pozniejsza litere od 'K':  ['Warszawa', 'Poznan', 'Lublin']\n",
      "Miasta z nazwa skladajaca sie z wiecej niz 6 liter:  ['Warszawa']\n"
     ]
    }
   ],
   "source": [
    "#Zadanie 1\n",
    "cities = [\"Krakow\", \"Warszawa\", \"Gdansk\", \"Poznan\", \"Lublin\"]\n",
    "\n",
    "alphabet_k = [i for i in cities if i[0] > 'K']\n",
    "print(\"Miasta zaczynajace sie na pozniejsza litere od 'K': \", alphabet_k)\n",
    "\n",
    "longer_than_six = [i for i in cities if len(i) > 6]\n",
    "print(\"Miasta z nazwa skladajaca sie z wiecej niz 6 liter: \", longer_than_six)"
   ]
  },
  {
   "cell_type": "code",
   "execution_count": 11,
   "id": "1230a992-a9b1-4ebe-becb-de1d3a911cb5",
   "metadata": {},
   "outputs": [
    {
     "name": "stdin",
     "output_type": "stream",
     "text": [
      "Podaj numer miesiaca: 2\n"
     ]
    },
    {
     "name": "stdout",
     "output_type": "stream",
     "text": [
      "luty\n"
     ]
    }
   ],
   "source": [
    "#Zadanie 2\n",
    "\n",
    "dictionary_m = {\n",
    "    \"1\": \"styczen\",\n",
    "    \"2\": \"luty\",\n",
    "    \"3\": \"marzec\",\n",
    "    \"4\": \"kwiecien\",\n",
    "    \"5\": \"maj\",\n",
    "    \"6\": \"czerwiec\",\n",
    "    \"7\": \"lipiec\",\n",
    "    \"8\": \"sierpien\",\n",
    "    \"9\": \"wrzesien\",\n",
    "    \"10\": \"pazdziernik\",\n",
    "    \"11\": \"listopad\",\n",
    "    \"12\": \"grudzien\"\n",
    "}\n",
    "\n",
    "month = input(\"Podaj numer miesiaca:\")\n",
    "print(dictionary_m[month])"
   ]
  },
  {
   "cell_type": "code",
   "execution_count": 17,
   "id": "6544254d-5cda-4a85-98c6-e246f6a96b49",
   "metadata": {},
   "outputs": [
    {
     "name": "stdout",
     "output_type": "stream",
     "text": [
      "Suma logiczna zbiorow: {1, 3, 4, 5, 7, 8, 10, 12, 17}\n",
      "Czesc wspolna zbiorow: {7}\n",
      "Roznica zbiorow:  {10, 3, 4, 5}\n"
     ]
    }
   ],
   "source": [
    "#Zadanie 3\n",
    "\n",
    "set1 = {10, 5, 3, 4, 7}\n",
    "set2 = {12, 7, 8, 17, 1}\n",
    "\n",
    "sum_set = set1 | set2\n",
    "print(\"Suma logiczna zbiorow:\", sum_set)\n",
    "\n",
    "intersection_set = set1 & set2\n",
    "print(\"Czesc wspolna zbiorow:\", intersection_set)\n",
    "\n",
    "difference_set = set1 - set2\n",
    "print(\"Roznica zbiorow: \", difference_set)"
   ]
  },
  {
   "cell_type": "code",
   "execution_count": 23,
   "id": "87cc8743-b375-4a78-8941-f9444e79e3b4",
   "metadata": {},
   "outputs": [
    {
     "name": "stdin",
     "output_type": "stream",
     "text": [
      "Podaj promien kola:  5\n"
     ]
    },
    {
     "name": "stdout",
     "output_type": "stream",
     "text": [
      "Dla promienia 5:\n",
      "Pole koła: 78.54\n",
      "Obwód koła: 31.42\n"
     ]
    }
   ],
   "source": [
    "#Zadanie 4\n",
    "\n",
    "import math\n",
    "\n",
    "radius = int(input(\"Podaj promien kola: \"))\n",
    "\n",
    "def circle_properties(radius):\n",
    "    area = math.pi * radius**2\n",
    "    circumference = math.pi * 2 * radius\n",
    "    \n",
    "    return (area, circumference)\n",
    "\n",
    "result = circle_properties(radius)\n",
    "print(f\"Dla promienia {radius}:\")\n",
    "print(f\"Pole koła: {result[0]:.2f}\")\n",
    "print(f\"Obwód koła: {result[1]:.2f}\")"
   ]
  },
  {
   "cell_type": "code",
   "execution_count": 32,
   "id": "a1216268-8eb9-477a-864e-3960bd36349a",
   "metadata": {},
   "outputs": [
    {
     "name": "stdout",
     "output_type": "stream",
     "text": [
      "Podaj tresc do zapisania do pliku: \n"
     ]
    },
    {
     "name": "stdin",
     "output_type": "stream",
     "text": [
      " Jeden\n",
      " Dwa\n",
      " \n"
     ]
    },
    {
     "name": "stdout",
     "output_type": "stream",
     "text": [
      "Zapisano tresc do pliku\n"
     ]
    }
   ],
   "source": [
    "#Zadanie 5\n",
    "\n",
    "print(\"Podaj tresc do zapisania do pliku: \")\n",
    "\n",
    "with open(\"file.txt\", \"w\") as file:\n",
    "    while True:\n",
    "        text = input()\n",
    "        if text == \"\":\n",
    "            break\n",
    "        file.write(text + \"\\n\")\n",
    "print(\"Zapisano tresc do pliku\") "
   ]
  },
  {
   "cell_type": "code",
   "execution_count": 4,
   "id": "b449ec29-f9bd-47cd-87d4-ef7967b8d82e",
   "metadata": {},
   "outputs": [
    {
     "name": "stdout",
     "output_type": "stream",
     "text": [
      "Podaj tresc do zapisania do pliku: \n"
     ]
    },
    {
     "name": "stdin",
     "output_type": "stream",
     "text": [
      "Imię:  Jan\n",
      "Nazwisko:  Kowalski\n",
      "Wiek:  31\n",
      "Imię:  Anna\n",
      "Nazwisko:  Nowak\n",
      "Wiek:  29\n",
      "Imię:  \n"
     ]
    },
    {
     "name": "stdout",
     "output_type": "stream",
     "text": [
      "Zapisano tresc do pliku\n"
     ]
    }
   ],
   "source": [
    "#Zadanie 6 \n",
    "\n",
    "print(\"Podaj tresc do zapisania do pliku: \")\n",
    "\n",
    "with open(\"people.txt\", \"w\") as file:\n",
    "    person_count = 1  \n",
    "    while True:\n",
    "        Imie = input(\"Imię: \").strip()\n",
    "        if Imie == \"\":\n",
    "            break\n",
    "        \n",
    "        Nazwisko = input(\"Nazwisko: \").strip()\n",
    "        if Nazwisko == \"\":\n",
    "            break\n",
    "        \n",
    "        Wiek = input(\"Wiek: \").strip()\n",
    "        if Wiek == \"\":\n",
    "            break\n",
    "\n",
    "        file.write(f\"{person_count}. Imię: {Imie}, Nazwisko: {Nazwisko}, Wiek: {Wiek} \\n\")\n",
    "        person_count += 1\n",
    "        \n",
    "print(\"Zapisano tresc do pliku\") "
   ]
  },
  {
   "cell_type": "code",
   "execution_count": null,
   "id": "dadde26f-67bc-480c-9dbc-d62647a612b0",
   "metadata": {},
   "outputs": [],
   "source": []
  }
 ],
 "metadata": {
  "kernelspec": {
   "display_name": "Python 3 (ipykernel)",
   "language": "python",
   "name": "python3"
  },
  "language_info": {
   "codemirror_mode": {
    "name": "ipython",
    "version": 3
   },
   "file_extension": ".py",
   "mimetype": "text/x-python",
   "name": "python",
   "nbconvert_exporter": "python",
   "pygments_lexer": "ipython3",
   "version": "3.12.4"
  }
 },
 "nbformat": 4,
 "nbformat_minor": 5
}
