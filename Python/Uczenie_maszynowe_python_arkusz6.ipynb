{
 "cells": [
  {
   "cell_type": "code",
   "execution_count": 2,
   "id": "d7783511-d3c5-4233-a211-40f1e6ed6695",
   "metadata": {},
   "outputs": [
    {
     "name": "stdout",
     "output_type": "stream",
     "text": [
      "\n",
      " Lista:\n",
      "0     a\n",
      "1     b\n",
      "2     c\n",
      "3     e\n",
      "4     d\n",
      "5     f\n",
      "6     g\n",
      "7     h\n",
      "8     i\n",
      "9     j\n",
      "10    k\n",
      "11    l\n",
      "12    m\n",
      "13    n\n",
      "14    o\n",
      "15    p\n",
      "16    q\n",
      "17    r\n",
      "18    s\n",
      "19    t\n",
      "20    u\n",
      "21    v\n",
      "22    w\n",
      "23    x\n",
      "24    y\n",
      "25    z\n",
      "dtype: object\n",
      "\n",
      " Tablica:\n",
      "0      0\n",
      "1      1\n",
      "2      2\n",
      "3      3\n",
      "4      4\n",
      "5      5\n",
      "6      6\n",
      "7      7\n",
      "8      8\n",
      "9      9\n",
      "10    10\n",
      "11    11\n",
      "12    12\n",
      "13    13\n",
      "14    14\n",
      "15    15\n",
      "16    16\n",
      "17    17\n",
      "18    18\n",
      "19    19\n",
      "20    20\n",
      "21    21\n",
      "22    22\n",
      "23    23\n",
      "24    24\n",
      "25    25\n",
      "dtype: int32\n",
      "\n",
      " Słownik:\n",
      "a     0\n",
      "b     1\n",
      "c     2\n",
      "e     3\n",
      "d     4\n",
      "f     5\n",
      "g     6\n",
      "h     7\n",
      "i     8\n",
      "j     9\n",
      "k    10\n",
      "l    11\n",
      "m    12\n",
      "n    13\n",
      "o    14\n",
      "p    15\n",
      "q    16\n",
      "r    17\n",
      "s    18\n",
      "t    19\n",
      "u    20\n",
      "v    21\n",
      "w    22\n",
      "x    23\n",
      "y    24\n",
      "z    25\n",
      "dtype: int32\n"
     ]
    }
   ],
   "source": [
    "#Zadanie 1 Pandas\n",
    "\n",
    "import pandas\n",
    "import numpy\n",
    "\n",
    "mylist = list('abcedfghijklmnopqrstuvwxyz')\n",
    "myarr = numpy.arange(26)\n",
    "mydict = dict(zip(mylist, myarr))\n",
    "\n",
    "series_list = pandas.Series(mylist)\n",
    "series_array = pandas.Series(myarr)\n",
    "series_dict = pandas.Series(mydict)\n",
    "\n",
    "print(\"\\n Lista:\")\n",
    "print(series_list)\n",
    "\n",
    "print(\"\\n Tablica:\")\n",
    "print(series_array)\n",
    "\n",
    "print(\"\\n Słownik:\")\n",
    "print(series_dict)"
   ]
  },
  {
   "cell_type": "code",
   "execution_count": 4,
   "id": "6583ddc5-3950-4f40-b19b-e1769c1796df",
   "metadata": {},
   "outputs": [
    {
     "name": "stdout",
     "output_type": "stream",
     "text": [
      "DataFrame:\n",
      "        Imię     Nazwisko  Wiek\n",
      "0     Alicja     Strzelec    33\n",
      "1  Krzysztof     Kowalski    20\n",
      "2      Karol  Lewandowski    21\n"
     ]
    }
   ],
   "source": [
    "# Zadanie 2 Pandas\n",
    "\n",
    "import pandas\n",
    "\n",
    "data = {\n",
    "    \"Imię\": [\"Alicja\", \"Krzysztof\", \"Karol\"],\n",
    "    \"Nazwisko\": [\"Strzelec\", \"Kowalski\", \"Lewandowski\"],\n",
    "    \"Wiek\": [33, 20, 21]\n",
    "}\n",
    "\n",
    "df = pandas.DataFrame(data)\n",
    "print(\"DataFrame:\")\n",
    "print(df)"
   ]
  },
  {
   "cell_type": "code",
   "execution_count": 6,
   "id": "911ca3f2-c4cc-43d0-ac6f-bcb37563dda0",
   "metadata": {},
   "outputs": [
    {
     "name": "stdout",
     "output_type": "stream",
     "text": [
      "Obiekt DataFrame:\n",
      "                    nr rejestru                  miasto wojewódzkie  \\\n",
      "dolnośląskie                  2                             Wrocław   \n",
      "kujawsko-pomorskie            4                   Bydgoszcz / Toruń   \n",
      "lubelskie                     6                              Lublin   \n",
      "lubuskie                      8  Gorzów Wielkopolski / Zielona Góra   \n",
      "łódzkie                      10                                Łódź   \n",
      "małopolskie                  12                              Kraków   \n",
      "mazowieckie                  14                            Warszawa   \n",
      "\n",
      "                    powierzchnia [km²]  ludność  \n",
      "dolnośląskie                  19946.70  2904198  \n",
      "kujawsko-pomorskie            17971.34  2086210  \n",
      "lubelskie                     25122.46  2139726  \n",
      "lubuskie                      13987.93  1018084  \n",
      "łódzkie                       18218.95  2493603  \n",
      "małopolskie                   15182.79  3372618  \n",
      "mazowieckie                   35558.47  5349114  \n"
     ]
    }
   ],
   "source": [
    "# Zadanie 3 Pandas\n",
    "\n",
    "import pandas\n",
    "\n",
    "data = {\n",
    "    \"nr rejestru\": [2, 4, 6, 8, 10, 12, 14],\n",
    "    \"miasto wojewódzkie\": [\n",
    "        \"Wrocław\",\n",
    "        \"Bydgoszcz / Toruń\",\n",
    "        \"Lublin\",\n",
    "        \"Gorzów Wielkopolski / Zielona Góra\",\n",
    "        \"Łódź\",\n",
    "        \"Kraków\",\n",
    "        \"Warszawa\"\n",
    "    ],\n",
    "    \"powierzchnia [km²]\": [19946.70, 17971.34, 25122.46, 13987.93, 18218.95, 15182.79, 35558.47],\n",
    "    \"ludność\": [2904198, 2086210, 2139726, 1018084, 2493603, 3372618, 5349114]\n",
    "}\n",
    "\n",
    "wojewodztwa = [\n",
    "    \"dolnośląskie\",\n",
    "    \"kujawsko-pomorskie\",\n",
    "    \"lubelskie\",\n",
    "    \"lubuskie\",\n",
    "    \"łódzkie\",\n",
    "    \"małopolskie\",\n",
    "    \"mazowieckie\"\n",
    "]\n",
    "\n",
    "df = pandas.DataFrame(data, index=wojewodztwa)\n",
    "print(\"Obiekt DataFrame:\")\n",
    "print(df)"
   ]
  },
  {
   "cell_type": "code",
   "execution_count": 22,
   "id": "5acb2ffb-8ad1-456f-81c5-f6e7ba567d41",
   "metadata": {},
   "outputs": [
    {
     "name": "stdout",
     "output_type": "stream",
     "text": [
      "Miasta wojewódzkie w województwach o powierzchni mniejszej niż 20000 km²:\n",
      "dolnośląskie                                     Wrocław\n",
      "kujawsko-pomorskie                     Bydgoszcz / Toruń\n",
      "lubuskie              Gorzów Wielkopolski / Zielona Góra\n",
      "łódzkie                                             Łódź\n",
      "małopolskie                                       Kraków\n",
      "Name: miasto wojewódzkie, dtype: object\n"
     ]
    }
   ],
   "source": [
    "# Wyznacz miasta wojewódzkie w województwach o powierzchni mniejszej niż 20000 km²\n",
    "\n",
    "filtered_df = df[df['powierzchnia [km²]'] < 20000]\n",
    "print(\"Miasta wojewódzkie w województwach o powierzchni mniejszej niż 20000 km²:\")\n",
    "print(filtered_df['miasto wojewódzkie'])"
   ]
  },
  {
   "cell_type": "code",
   "execution_count": 17,
   "id": "3f027388-5bb0-4501-a364-c7916ab53014",
   "metadata": {},
   "outputs": [
    {
     "name": "stdout",
     "output_type": "stream",
     "text": [
      "Województwa, w których liczba ludności przekracza 2 miliony:\n",
      "                    nr rejestru miasto wojewódzkie  powierzchnia [km²]  \\\n",
      "dolnośląskie                  2            Wrocław            19946.70   \n",
      "kujawsko-pomorskie            4  Bydgoszcz / Toruń            17971.34   \n",
      "lubelskie                     6             Lublin            25122.46   \n",
      "łódzkie                      10               Łódź            18218.95   \n",
      "małopolskie                  12             Kraków            15182.79   \n",
      "mazowieckie                  14           Warszawa            35558.47   \n",
      "\n",
      "                    ludność  \n",
      "dolnośląskie        2904198  \n",
      "kujawsko-pomorskie  2086210  \n",
      "lubelskie           2139726  \n",
      "łódzkie             2493603  \n",
      "małopolskie         3372618  \n",
      "mazowieckie         5349114  \n"
     ]
    }
   ],
   "source": [
    "# Utwórz nowy obiekt DataFrame zawierający województwa w których liczba ludności przekracza 2000000\n",
    "\n",
    "filtered_df = df[df['ludność'] > 2000000]\n",
    "print(\"Województwa, w których liczba ludności przekracza 2 miliony:\")\n",
    "print(filtered_df)"
   ]
  },
  {
   "cell_type": "code",
   "execution_count": 19,
   "id": "05bfd6fe-68ab-4200-a8f1-42075c7ffb64",
   "metadata": {},
   "outputs": [
    {
     "name": "stdout",
     "output_type": "stream",
     "text": [
      "DataFrame po dodaniu województwa wielkopolskiego:\n",
      "                    nr rejestru                  miasto wojewódzkie  \\\n",
      "dolnośląskie                  2                             Wrocław   \n",
      "kujawsko-pomorskie            4                   Bydgoszcz / Toruń   \n",
      "lubelskie                     6                              Lublin   \n",
      "lubuskie                      8  Gorzów Wielkopolski / Zielona Góra   \n",
      "łódzkie                      10                                Łódź   \n",
      "małopolskie                  12                              Kraków   \n",
      "mazowieckie                  14                            Warszawa   \n",
      "wielkopolskie                30                              Poznań   \n",
      "\n",
      "                    powierzchnia [km²]  ludność  \n",
      "dolnośląskie                  19946.70  2904198  \n",
      "kujawsko-pomorskie            17971.34  2086210  \n",
      "lubelskie                     25122.46  2139726  \n",
      "lubuskie                      13987.93  1018084  \n",
      "łódzkie                       18218.95  2493603  \n",
      "małopolskie                   15182.79  3372618  \n",
      "mazowieckie                   35558.47  5349114  \n",
      "wielkopolskie                 29826.50  3475323  \n"
     ]
    }
   ],
   "source": [
    "# Dodaj wiersz: wielkopolskie 30 Poznań 29 826,50 3 475 323\n",
    "\n",
    "new = {\n",
    "    \"nr rejestru\": 30,\n",
    "    \"miasto wojewódzkie\": \"Poznań\",\n",
    "    \"powierzchnia [km²]\": 29826.50,\n",
    "    \"ludność\": 3475323\n",
    "}\n",
    "\n",
    "df.loc[\"wielkopolskie\"] = new\n",
    "print(\"DataFrame po dodaniu województwa wielkopolskiego:\")\n",
    "print(df)"
   ]
  },
  {
   "cell_type": "code",
   "execution_count": 21,
   "id": "11477ace-40ae-43e8-ad5a-5a3f28aa1720",
   "metadata": {},
   "outputs": [
    {
     "name": "stdout",
     "output_type": "stream",
     "text": [
      "DataFrame po posortowaniu po liczbie ludności malejąco:\n",
      "                    nr rejestru                  miasto wojewódzkie  \\\n",
      "mazowieckie                  14                            Warszawa   \n",
      "wielkopolskie                30                              Poznań   \n",
      "małopolskie                  12                              Kraków   \n",
      "dolnośląskie                  2                             Wrocław   \n",
      "łódzkie                      10                                Łódź   \n",
      "lubelskie                     6                              Lublin   \n",
      "kujawsko-pomorskie            4                   Bydgoszcz / Toruń   \n",
      "lubuskie                      8  Gorzów Wielkopolski / Zielona Góra   \n",
      "\n",
      "                    powierzchnia [km²]  ludność  \n",
      "mazowieckie                   35558.47  5349114  \n",
      "wielkopolskie                 29826.50  3475323  \n",
      "małopolskie                   15182.79  3372618  \n",
      "dolnośląskie                  19946.70  2904198  \n",
      "łódzkie                       18218.95  2493603  \n",
      "lubelskie                     25122.46  2139726  \n",
      "kujawsko-pomorskie            17971.34  2086210  \n",
      "lubuskie                      13987.93  1018084  \n"
     ]
    }
   ],
   "source": [
    "# Posortuj dane po liczbie ludności malejąco\n",
    "\n",
    "sorted_df = df.sort_values(by=\"ludność\", ascending=False)\n",
    "print(\"DataFrame po posortowaniu po liczbie ludności malejąco:\")\n",
    "print(sorted_df)"
   ]
  },
  {
   "cell_type": "code",
   "execution_count": 25,
   "id": "09513412-9fc8-4ff1-9765-be5fad21b112",
   "metadata": {},
   "outputs": [
    {
     "name": "stdout",
     "output_type": "stream",
     "text": [
      "DataFrame po przesunięciu kolumny 'miasto wojewódzkie' na ostatnie miejsce:\n",
      "                    nr rejestru  powierzchnia [km²]  ludność  \\\n",
      "mazowieckie                  14            35558.47  5349114   \n",
      "wielkopolskie                30            29826.50  3475323   \n",
      "małopolskie                  12            15182.79  3372618   \n",
      "dolnośląskie                  2            19946.70  2904198   \n",
      "łódzkie                      10            18218.95  2493603   \n",
      "lubelskie                     6            25122.46  2139726   \n",
      "kujawsko-pomorskie            4            17971.34  2086210   \n",
      "lubuskie                      8            13987.93  1018084   \n",
      "\n",
      "                                    miasto wojewódzkie  \n",
      "mazowieckie                                   Warszawa  \n",
      "wielkopolskie                                   Poznań  \n",
      "małopolskie                                     Kraków  \n",
      "dolnośląskie                                   Wrocław  \n",
      "łódzkie                                           Łódź  \n",
      "lubelskie                                       Lublin  \n",
      "kujawsko-pomorskie                   Bydgoszcz / Toruń  \n",
      "lubuskie            Gorzów Wielkopolski / Zielona Góra  \n"
     ]
    }
   ],
   "source": [
    "# Przesuń kolumnę “miasto wojewódzkie” na ostatnie miejsce\n",
    "\n",
    "cols = [col for col in sorted_df.columns if col != \"miasto wojewódzkie\"] + [\"miasto wojewódzkie\"]\n",
    "sorted_df = sorted_df[cols]\n",
    "\n",
    "print(\"DataFrame po przesunięciu kolumny 'miasto wojewódzkie' na ostatnie miejsce:\")\n",
    "print(sorted_df)"
   ]
  },
  {
   "cell_type": "code",
   "execution_count": 27,
   "id": "0abdf036-6135-4eff-8852-ef172067d52c",
   "metadata": {},
   "outputs": [
    {
     "name": "stdout",
     "output_type": "stream",
     "text": [
      "DataFrame po modyfikacji nazw województw:\n",
      "                    nr rejestru  powierzchnia [km²]  ludność  \\\n",
      "Mazowieckie                  14            35558.47  5349114   \n",
      "Wielkopolskie                30            29826.50  3475323   \n",
      "Małopolskie                  12            15182.79  3372618   \n",
      "Dolnośląskie                  2            19946.70  2904198   \n",
      "Łódzkie                      10            18218.95  2493603   \n",
      "Lubelskie                     6            25122.46  2139726   \n",
      "Kujawsko-Pomorskie            4            17971.34  2086210   \n",
      "Lubuskie                      8            13987.93  1018084   \n",
      "\n",
      "                                    miasto wojewódzkie  \n",
      "Mazowieckie                                   Warszawa  \n",
      "Wielkopolskie                                   Poznań  \n",
      "Małopolskie                                     Kraków  \n",
      "Dolnośląskie                                   Wrocław  \n",
      "Łódzkie                                           Łódź  \n",
      "Lubelskie                                       Lublin  \n",
      "Kujawsko-Pomorskie                   Bydgoszcz / Toruń  \n",
      "Lubuskie            Gorzów Wielkopolski / Zielona Góra  \n"
     ]
    }
   ],
   "source": [
    "# Zmodyfikuj nazwy województw tak aby zaczynały się wielka literą\n",
    "\n",
    "sorted_df.index = sorted_df.index.str.title()\n",
    "print(\"DataFrame po modyfikacji nazw województw:\")\n",
    "print(sorted_df)"
   ]
  },
  {
   "cell_type": "code",
   "execution_count": 20,
   "id": "39037fc9-6b0a-4982-9c9d-495dcefc7904",
   "metadata": {},
   "outputs": [
    {
     "name": "stdout",
     "output_type": "stream",
     "text": [
      "Series z wartościami logicznymi dotyczącymi średniej liczby ludności na km²:\n",
      "dolnośląskie           True\n",
      "kujawsko-pomorskie    False\n",
      "lubelskie             False\n",
      "lubuskie              False\n",
      "łódzkie               False\n",
      "małopolskie            True\n",
      "mazowieckie            True\n",
      "Name: ludność na km², dtype: bool\n"
     ]
    }
   ],
   "source": [
    "# Utwórz obiekt typu series zawierający nazwy województw w indeksie i wartość logiczną oznaczającą czy średnia liczba ludności na km² przekracza 140\n",
    "\n",
    "df['ludność na km²'] = df['ludność'] / df['powierzchnia [km²]']\n",
    "result = df['ludność na km²'] > 140\n",
    "print(\"Series z wartościami logicznymi dotyczącymi średniej liczby ludności na km²:\")\n",
    "print(result)"
   ]
  },
  {
   "cell_type": "code",
   "execution_count": 37,
   "id": "3a444eb1-3cd1-4eb1-8152-93580893ee2e",
   "metadata": {},
   "outputs": [
    {
     "name": "stdout",
     "output_type": "stream",
     "text": [
      "DataFrame po usunięciu województwa 'lubuskie':\n",
      "                    nr rejestru miasto wojewódzkie  powierzchnia [km²]  \\\n",
      "dolnośląskie                  2            Wrocław            19946.70   \n",
      "kujawsko-pomorskie            4  Bydgoszcz / Toruń            17971.34   \n",
      "lubelskie                     6             Lublin            25122.46   \n",
      "łódzkie                      10               Łódź            18218.95   \n",
      "małopolskie                  12             Kraków            15182.79   \n",
      "mazowieckie                  14           Warszawa            35558.47   \n",
      "wielkopolskie                30             Poznań            29826.50   \n",
      "\n",
      "                    ludność  ludność na km²  \n",
      "dolnośląskie        2904198      145.597918  \n",
      "kujawsko-pomorskie  2086210      116.085389  \n",
      "lubelskie           2139726       85.171834  \n",
      "łódzkie             2493603      136.868645  \n",
      "małopolskie         3372618      222.134272  \n",
      "mazowieckie         5349114      150.431501  \n",
      "wielkopolskie       3475323      116.517962  \n"
     ]
    }
   ],
   "source": [
    "# Usuń wiersz zawierający woj. Lubuskie\n",
    "\n",
    "df_without_lubuskie = df.drop(\"lubuskie\")\n",
    "print(\"DataFrame po usunięciu województwa 'lubuskie':\")\n",
    "print(df_without_lubuskie)"
   ]
  },
  {
   "cell_type": "code",
   "execution_count": 24,
   "id": "dabbca08-7381-405c-be28-513f2b404a5a",
   "metadata": {},
   "outputs": [
    {
     "name": "stdout",
     "output_type": "stream",
     "text": [
      "Statystyki opisowe dla danych województw:\n",
      "       nr rejestru  powierzchnia [km²]       ludność  ludność na km²\n",
      "count     7.000000            7.000000  7.000000e+00        7.000000\n",
      "mean      8.000000        20855.520000  2.766222e+06      132.724656\n",
      "std       4.320494         7414.210715  1.356669e+06       49.365371\n",
      "min       2.000000        13987.930000  1.018084e+06       72.783035\n",
      "25%       5.000000        16577.065000  2.112968e+06      100.628612\n",
      "50%       8.000000        18218.950000  2.493603e+06      136.868645\n",
      "75%      11.000000        22534.580000  3.138408e+06      148.014710\n",
      "max      14.000000        35558.470000  5.349114e+06      222.134272\n"
     ]
    }
   ],
   "source": [
    "# Zastosuj funkcję pandas.DataFrame.describe() i wyznacz parametry statystyczne dla analizowanego zbioru danych\n",
    "\n",
    "statystyki = df.describe()\n",
    "print(\"Statystyki opisowe dla danych województw:\")\n",
    "print(statystyki)"
   ]
  },
  {
   "cell_type": "code",
   "execution_count": 8,
   "id": "69189db3-e5f0-4395-ba8e-fd72b417dbf1",
   "metadata": {},
   "outputs": [
    {
     "name": "stdout",
     "output_type": "stream",
     "text": [
      "DataFrame przed zamianą brakujących wartości:\n",
      "            Miasto  Dzień 1  Dzień 2  Dzień 3  Dzień 4  Dzień 5\n",
      "Warszawa  Warszawa     6.33     5.30      NaN      2.2      6.9\n",
      "Kraków      Kraków      NaN      NaN     7.31      8.1      6.5\n",
      "Wrocław    Wrocław      NaN     4.50     8.20      2.4      7.9\n",
      "Poznań      Poznań      NaN     6.10     0.30      1.1      NaN\n",
      "Gdańsk      Gdańsk     7.10     5.82      NaN      NaN      1.2\n",
      "\n",
      "Brakujące wartości (oznaczone jako True:\n",
      "          Miasto  Dzień 1  Dzień 2  Dzień 3  Dzień 4  Dzień 5\n",
      "Warszawa   False    False    False     True    False    False\n",
      "Kraków     False     True     True    False    False    False\n",
      "Wrocław    False     True    False    False    False    False\n",
      "Poznań     False     True    False    False    False     True\n",
      "Gdańsk     False    False    False     True     True    False\n",
      "\n",
      "DataFrame po zamianie brakujących wartości na średnią:\n",
      "          Dzień 1  Dzień 2  Dzień 3  Dzień 4  Dzień 5    Miasto\n",
      "Warszawa    6.330     5.30     5.27     2.20    6.900  Warszawa\n",
      "Kraków      6.715     5.43     7.31     8.10    6.500    Kraków\n",
      "Wrocław     6.715     4.50     8.20     2.40    7.900   Wrocław\n",
      "Poznań      6.715     6.10     0.30     1.10    5.625    Poznań\n",
      "Gdańsk      7.100     5.82     5.27     3.45    1.200    Gdańsk\n"
     ]
    }
   ],
   "source": [
    "# Zadanie 4 Pandas\n",
    "\n",
    "import pandas\n",
    "import numpy\n",
    "\n",
    "\n",
    "data = {\n",
    "    \"Miasto\": [\"Warszawa\", \"Kraków\", \"Wrocław\", \"Poznań\", \"Gdańsk\"],\n",
    "    \"Dzień 1\": [6.33, numpy.nan, numpy.nan, numpy.nan, 7.10],\n",
    "    \"Dzień 2\": [5.3, numpy.nan, 4.5, 6.1, 5.82],\n",
    "    \"Dzień 3\": [numpy.nan, 7.31, 8.2, 0.3, numpy.nan],\n",
    "    \"Dzień 4\": [2.2, 8.1, 2.4, 1.1, numpy.nan],\n",
    "    \"Dzień 5\": [6.9, 6.5, 7.9, numpy.nan, 1.2]\n",
    "}\n",
    "\n",
    "cities = [\"Warszawa\", \"Kraków\", \"Wrocław\", \"Poznań\", \"Gdańsk\"]\n",
    "df = pandas.DataFrame(data, index=cities)\n",
    "\n",
    "print(\"DataFrame przed zamianą brakujących wartości:\")\n",
    "print(df)\n",
    "\n",
    "print(\"\\nBrakujące wartości (oznaczone jako True:\")\n",
    "print(df.isna())\n",
    "\n",
    "df_filled = df.drop(columns=\"Miasto\").apply(lambda col: col.fillna(col.mean()), axis=0)\n",
    "\n",
    "df_filled[\"Miasto\"] = df[\"Miasto\"]\n",
    "\n",
    "print(\"\\nDataFrame po zamianie brakujących wartości na średnią:\")\n",
    "print(df_filled)"
   ]
  },
  {
   "cell_type": "code",
   "execution_count": 10,
   "id": "67b6b6a2-e4fe-4cf5-b4cd-bc9f3155e611",
   "metadata": {},
   "outputs": [],
   "source": [
    "#Zadanie 5 Pandas\n",
    "import pandas\n",
    "import numpy\n",
    "\n",
    "# Utwórz listę 100 losowych liczb całkowitych\n",
    "random_numbers = numpy.random.randint(1, 101, size=100)\n",
    "df = pandas.DataFrame(random_numbers, columns=[\"Liczba\"])\n"
   ]
  },
  {
   "cell_type": "code",
   "execution_count": 34,
   "id": "1e81f0fb-a316-4ac3-b61c-4071074362a6",
   "metadata": {},
   "outputs": [
    {
     "name": "stdout",
     "output_type": "stream",
     "text": [
      "[[66 82  9 48 68 19 75 93 50 49]\n",
      " [44 32 71 39 60 83 47 14 86 41]\n",
      " [47  5 46 36 57 47 17 28  3 93]\n",
      " [17 81  8  2 66 66  6 22 82 31]\n",
      " [11 32 46 97 50 75  5 41 31 56]\n",
      " [67 27 20 46 97  4 89 79 79 64]\n",
      " [10 78 65 57 85 84 13 54 63 24]\n",
      " [71 82 46 12 48 91 74 22 66 61]\n",
      " [23 11 57 33 29 85 91 24 55  9]\n",
      " [77 34 98 30 26 16 86 92 40 67]]\n"
     ]
    }
   ],
   "source": [
    "# Przekształć listę 1-wymiarową w listę 2-wymiarową o wymiarze 10x10\n",
    "\n",
    "reshaped_array = random_numbers.reshape(10, 10)\n",
    "print(reshaped_array)"
   ]
  },
  {
   "cell_type": "code",
   "execution_count": 36,
   "id": "358319a2-3473-47ab-a340-247479c1d629",
   "metadata": {},
   "outputs": [
    {
     "name": "stdout",
     "output_type": "stream",
     "text": [
      "   1   2   3   4   5   6   7   8   9   10\n",
      "a  66  82   9  48  68  19  75  93  50  49\n",
      "b  44  32  71  39  60  83  47  14  86  41\n",
      "c  47   5  46  36  57  47  17  28   3  93\n",
      "d  17  81   8   2  66  66   6  22  82  31\n",
      "e  11  32  46  97  50  75   5  41  31  56\n",
      "f  67  27  20  46  97   4  89  79  79  64\n",
      "g  10  78  65  57  85  84  13  54  63  24\n",
      "h  71  82  46  12  48  91  74  22  66  61\n",
      "i  23  11  57  33  29  85  91  24  55   9\n",
      "j  77  34  98  30  26  16  86  92  40  67\n"
     ]
    }
   ],
   "source": [
    "# Na podstawie powstałej macierzy utwórz obiekt DataFrame, jako indeks wierszy wykorzystaj kolejne litery alfabetu (a, b, ...), a jako indeks kolumn kolejne liczby (1, 2...)\n",
    "\n",
    "import string\n",
    "\n",
    "row_index = list(string.ascii_lowercase[:10])  # 'a' do 'j'\n",
    "col_index = list(range(1, 11))\n",
    "df = pandas.DataFrame(reshaped_array, index=row_index, columns=col_index)\n",
    "print(df)"
   ]
  },
  {
   "cell_type": "code",
   "execution_count": 38,
   "id": "8c64e7e8-bc1e-4c2a-be3b-f2d512557ea9",
   "metadata": {},
   "outputs": [
    {
     "name": "stdout",
     "output_type": "stream",
     "text": [
      "\n",
      "Nowy DataFrame (co drugi wiersz i kolumny > 5):\n",
      "   6   7   8   9   10\n",
      "a  19  75  93  50  49\n",
      "c  47  17  28   3  93\n",
      "e  75   5  41  31  56\n",
      "g  84  13  54  63  24\n",
      "i  85  91  24  55   9\n"
     ]
    }
   ],
   "source": [
    "# Utwórz nowy obiekt DataFrame zawierający co drugi wiersz i kolumny o indeksie większym niż 5\n",
    "\n",
    "df_filtered = df.iloc[::2, 5:]\n",
    "print(\"\\nNowy DataFrame (co drugi wiersz i kolumny > 5):\")\n",
    "print(df_filtered)"
   ]
  },
  {
   "cell_type": "code",
   "execution_count": 44,
   "id": "2d6f106b-ca94-4066-a3ab-1bb8e51144c1",
   "metadata": {},
   "outputs": [
    {
     "name": "stdout",
     "output_type": "stream",
     "text": [
      "Macierz logiczna (True dla wartości > 50):\n",
      "      6      7      8      9      10\n",
      "a  False   True   True  False  False\n",
      "c  False  False  False  False   True\n",
      "e   True  False  False  False   True\n",
      "g   True  False   True   True  False\n",
      "i   True   True  False   True  False\n"
     ]
    }
   ],
   "source": [
    "# Utwórz macierz zawierającą wartości true w komórkach odpowiadających wartościom logicznym z ramki danych utworzonej w poprzednim podpunkcie\n",
    "\n",
    "df_boolean = df_filtered.apply(lambda x: x > 50)\n",
    "print(\"Macierz logiczna (True dla wartości > 50):\")\n",
    "print(df_boolean)"
   ]
  },
  {
   "cell_type": "code",
   "execution_count": null,
   "id": "4f250324-1d00-427f-bf49-45b73d7ef613",
   "metadata": {},
   "outputs": [],
   "source": []
  }
 ],
 "metadata": {
  "kernelspec": {
   "display_name": "Python 3 (ipykernel)",
   "language": "python",
   "name": "python3"
  },
  "language_info": {
   "codemirror_mode": {
    "name": "ipython",
    "version": 3
   },
   "file_extension": ".py",
   "mimetype": "text/x-python",
   "name": "python",
   "nbconvert_exporter": "python",
   "pygments_lexer": "ipython3",
   "version": "3.12.4"
  }
 },
 "nbformat": 4,
 "nbformat_minor": 5
}
